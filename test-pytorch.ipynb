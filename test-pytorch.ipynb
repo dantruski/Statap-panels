{
 "cells": [
  {
   "cell_type": "markdown",
   "metadata": {},
   "source": [
    "## Test of Pytorch\n"
   ]
  },
  {
   "cell_type": "code",
   "execution_count": 2,
   "metadata": {},
   "outputs": [
    {
     "data": {
      "text/plain": [
       "['/Library/Frameworks/Python.framework/Versions/3.10/lib/python3.10/site-packages/torch']"
      ]
     },
     "execution_count": 2,
     "metadata": {},
     "output_type": "execute_result"
    }
   ],
   "source": [
    "import torch\n",
    "torch.__version__\n",
    "torch.__path__"
   ]
  },
  {
   "cell_type": "code",
   "execution_count": 3,
   "metadata": {},
   "outputs": [
    {
     "name": "stdout",
     "output_type": "stream",
     "text": [
      "tensor([[1., 2., 3.],\n",
      "        [4., 5., 6.],\n",
      "        [7., 8., 9.]])\n",
      "torch.Size([3, 3])\n"
     ]
    }
   ],
   "source": [
    "x=torch.tensor([[1,2,3],[4,5,6],[7,8,9]],dtype=torch.float32)\n",
    "print(x)\n",
    "print(x.size())\n",
    "\n"
   ]
  },
  {
   "cell_type": "code",
   "execution_count": 4,
   "metadata": {},
   "outputs": [
    {
     "name": "stdout",
     "output_type": "stream",
     "text": [
      "torch.Size([4, 4]) torch.Size([16]) torch.Size([2, 8])\n"
     ]
    }
   ],
   "source": [
    "x=torch.randn(4,4)  \n",
    "y=x.view(16)\n",
    "z=x.view(-1,8)\n",
    "print(x.size(),y.size(),z.size())"
   ]
  },
  {
   "cell_type": "code",
   "execution_count": 11,
   "metadata": {},
   "outputs": [
    {
     "name": "stdout",
     "output_type": "stream",
     "text": [
      "Using matplotlib backend: module://matplotlib_inline.backend_inline\n",
      "%pylab is deprecated, use %matplotlib inline and import the required libraries.\n",
      "Populating the interactive namespace from numpy and matplotlib\n"
     ]
    },
    {
     "data": {
      "text/plain": [
       "[<matplotlib.lines.Line2D at 0x123344dc0>]"
      ]
     },
     "execution_count": 11,
     "metadata": {},
     "output_type": "execute_result"
    },
    {
     "data": {
      "image/png": "[encoded data removed]",
      "text/plain": [
       "<Figure size 640x480 with 1 Axes>"
      ]
     },
     "metadata": {},
     "output_type": "display_data"
    }
   ],
   "source": [
    "%pylab\n",
    "import torch.nn as nn\n",
    "\n",
    "x=torch.arange(-10,10,0.1)\n",
    "plot(x.numpy(),torch.nn.functional.relu(x).numpy())\n"
   ]
  },
  {
   "cell_type": "code",
   "execution_count": 19,
   "metadata": {},
   "outputs": [
    {
     "data": {
      "text/plain": [
       "tensor([2, 2, 2])"
      ]
     },
     "execution_count": 19,
     "metadata": {},
     "output_type": "execute_result"
    }
   ],
   "source": [
    "v=torch.arange(0,6).view(2,3)\n",
    "v[0][2]\n",
    "v[1].fill_(2)"
   ]
  },
  {
   "cell_type": "code",
   "execution_count": 28,
   "metadata": {},
   "outputs": [
    {
     "data": {
      "text/plain": [
       "tensor([[2, 2, 2, 2, 2],\n",
       "        [2, 2, 2, 2, 2]], dtype=torch.int32)"
      ]
     },
     "execution_count": 28,
     "metadata": {},
     "output_type": "execute_result"
    }
   ],
   "source": [
    "a=torch.ones(2,5,dtype=torch.float64)\n",
    "b=a.numpy()\n",
    "\n",
    "a=np.ones((2,5),dtype=np.int32)\n",
    "b=torch.from_numpy(a)\n",
    "np.add(a,1,out=a)\n",
    "b"
   ]
  },
  {
   "cell_type": "code",
   "execution_count": 30,
   "metadata": {},
   "outputs": [
    {
     "name": "stdout",
     "output_type": "stream",
     "text": [
      "tensor([[6., 6.],\n",
      "        [6., 6.]])\n"
     ]
    }
   ],
   "source": [
    "x=torch.ones(2,2,requires_grad=True)\n",
    "y=2*(x**3)\n",
    "z=y.sum()\n",
    "z.backward(retain_graph=True)\n",
    "print(x.grad)\n"
   ]
  },
  {
   "cell_type": "code",
   "execution_count": 31,
   "metadata": {},
   "outputs": [
    {
     "name": "stdout",
     "output_type": "stream",
     "text": [
      "tensor([[12., 12.],\n",
      "        [12., 12.]])\n"
     ]
    }
   ],
   "source": [
    "z.backward(retain_graph=True)\n",
    "print(x.grad)"
   ]
  },
  {
   "cell_type": "code",
   "execution_count": 35,
   "metadata": {},
   "outputs": [
    {
     "name": "stdout",
     "output_type": "stream",
     "text": [
      "torch.Size([100, 1])\n"
     ]
    }
   ],
   "source": [
    "import torch.nn\n",
    "\n",
    "model=torch.nn.Linear(in_features=64,out_features=1,bias=True)\n",
    "\n",
    "x=torch.rand(100,64)\n",
    "hat_y=model(x)\n",
    "\n",
    "print(hat_y.size())\n"
   ]
  },
  {
   "cell_type": "code",
   "execution_count": 36,
   "metadata": {},
   "outputs": [
    {
     "name": "stdout",
     "output_type": "stream",
     "text": [
      "{'training': True, '_parameters': OrderedDict([('weight', Parameter containing:\n",
      "tensor([[-0.0400, -0.1201, -0.1079, -0.1127,  0.1185, -0.0766,  0.0450, -0.1197,\n",
      "         -0.0269, -0.0465, -0.0831, -0.0847, -0.0218, -0.0240, -0.1098,  0.0341,\n",
      "         -0.0061,  0.0746, -0.0997, -0.0194, -0.0859,  0.0087, -0.0723,  0.0732,\n",
      "          0.0967, -0.0965, -0.1217,  0.0360,  0.0748, -0.0880,  0.0800, -0.0331,\n",
      "          0.0685,  0.0769,  0.0786, -0.0409,  0.0854,  0.0850, -0.0813, -0.1122,\n",
      "         -0.0249, -0.0516, -0.0575,  0.0765,  0.1151, -0.0952,  0.0735,  0.0920,\n",
      "          0.0548, -0.0478,  0.1198, -0.0682, -0.0967, -0.0022,  0.0116,  0.1044,\n",
      "         -0.0205, -0.0987,  0.0741,  0.0644,  0.0801, -0.1043, -0.0101, -0.0253]],\n",
      "       requires_grad=True)), ('bias', Parameter containing:\n",
      "tensor([-0.0414], requires_grad=True))]), '_buffers': OrderedDict(), '_non_persistent_buffers_set': set(), '_backward_pre_hooks': OrderedDict(), '_backward_hooks': OrderedDict(), '_is_full_backward_hook': None, '_forward_hooks': OrderedDict(), '_forward_hooks_with_kwargs': OrderedDict(), '_forward_hooks_always_called': OrderedDict(), '_forward_pre_hooks': OrderedDict(), '_forward_pre_hooks_with_kwargs': OrderedDict(), '_state_dict_hooks': OrderedDict(), '_state_dict_pre_hooks': OrderedDict(), '_load_state_dict_pre_hooks': OrderedDict(), '_load_state_dict_post_hooks': OrderedDict(), '_modules': OrderedDict(), 'in_features': 64, 'out_features': 1}\n"
     ]
    }
   ],
   "source": [
    "print(model.__dict__)\n"
   ]
  },
  {
   "cell_type": "code",
   "execution_count": 37,
   "metadata": {},
   "outputs": [
    {
     "name": "stdout",
     "output_type": "stream",
     "text": [
      "Parameter containing:\n",
      "tensor([[-0.0400, -0.1201, -0.1079, -0.1127,  0.1185, -0.0766,  0.0450, -0.1197,\n",
      "         -0.0269, -0.0465, -0.0831, -0.0847, -0.0218, -0.0240, -0.1098,  0.0341,\n",
      "         -0.0061,  0.0746, -0.0997, -0.0194, -0.0859,  0.0087, -0.0723,  0.0732,\n",
      "          0.0967, -0.0965, -0.1217,  0.0360,  0.0748, -0.0880,  0.0800, -0.0331,\n",
      "          0.0685,  0.0769,  0.0786, -0.0409,  0.0854,  0.0850, -0.0813, -0.1122,\n",
      "         -0.0249, -0.0516, -0.0575,  0.0765,  0.1151, -0.0952,  0.0735,  0.0920,\n",
      "          0.0548, -0.0478,  0.1198, -0.0682, -0.0967, -0.0022,  0.0116,  0.1044,\n",
      "         -0.0205, -0.0987,  0.0741,  0.0644,  0.0801, -0.1043, -0.0101, -0.0253]],\n",
      "       requires_grad=True)\n"
     ]
    }
   ],
   "source": [
    "print(model.weight)"
   ]
  },
  {
   "cell_type": "code",
   "execution_count": 38,
   "metadata": {},
   "outputs": [
    {
     "name": "stdout",
     "output_type": "stream",
     "text": [
      "Parameter containing:\n",
      "tensor([-0.0414], requires_grad=True)\n"
     ]
    }
   ],
   "source": [
    "print(model.bias)"
   ]
  },
  {
   "cell_type": "code",
   "execution_count": 39,
   "metadata": {},
   "outputs": [],
   "source": [
    "dtype = torch.float\n",
    "device = torch.device(\"cpu\")\n",
    "N, D_in, H, D_out = 64, 1000, 100, 10\n",
    "x = torch.randn(N, D_in, device=device, dtype=dtype)\n",
    "y = torch.randn(N, D_out, device=device, dtype=dtype)\n",
    "w1 = torch.randn(D_in, H, device=device, dtype=dtype)\n",
    "w2 = torch.randn(H, D_out, device=device, dtype=dtype)\n",
    "learning_rate = 1e-6\n",
    "for t in range(500):\n",
    "    # --- forward\n",
    "    h = x.mm(w1)\n",
    "    h_relu = h.clamp(min=0)\n",
    "    y_pred = h_relu.mm(w2)\n",
    "    # --- loss\n",
    "    loss = (y_pred - y).pow(2).sum().item()\n",
    "    # --- backward\n",
    "    grad_y_pred = 2.0 * (y_pred - y)\n",
    "    grad_w2 = h_relu.t().mm(grad_y_pred)\n",
    "    grad_h_relu = grad_y_pred.mm(w2.t())\n",
    "    grad_h = grad_h_relu.clone()\n",
    "    grad_h[h < 0] = 0\n",
    "    grad_w1 = x.t().mm(grad_h)\n",
    "    # --- update\n",
    "    w1 -= learning_rate * grad_w1\n",
    "    w2 -= learning_rate * grad_w2"
   ]
  }
 ],
 "metadata": {
  "kernelspec": {
   "display_name": "Python 3",
   "language": "python",
   "name": "python3"
  },
  "language_info": {
   "codemirror_mode": {
    "name": "ipython",
    "version": 3
   },
   "file_extension": ".py",
   "mimetype": "text/x-python",
   "name": "python",
   "nbconvert_exporter": "python",
   "pygments_lexer": "ipython3",
   "version": "3.10.2"
  }
 },
 "nbformat": 4,
 "nbformat_minor": 2
}
