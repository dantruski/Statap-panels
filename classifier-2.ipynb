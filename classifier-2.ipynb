{
 "cells": [
  {
   "cell_type": "code",
   "execution_count": 2,
   "metadata": {},
   "outputs": [
    {
     "name": "stderr",
     "output_type": "stream",
     "text": [
      "[nltk_data] Downloading package stopwords to\n",
      "[nltk_data]     /Users/daniel/nltk_data...\n",
      "[nltk_data]   Package stopwords is already up-to-date!\n",
      "[nltk_data] Downloading package punkt to /Users/daniel/nltk_data...\n",
      "[nltk_data]   Package punkt is already up-to-date!\n"
     ]
    }
   ],
   "source": [
    "import os\n",
    "import random\n",
    "import re\n",
    "import string\n",
    "\n",
    "import nltk\n",
    "import numpy as np\n",
    "import pandas as pd\n",
    "\n",
    "from nltk import word_tokenize\n",
    "from nltk.corpus import stopwords\n",
    "\n",
    "\n",
    "from sklearn.cluster import MiniBatchKMeans\n",
    "from sklearn.metrics import silhouette_samples, silhouette_score\n",
    "from sklearn.feature_extraction.text import ENGLISH_STOP_WORDS\n",
    "\n",
    "nltk.download(\"stopwords\")\n",
    "nltk.download(\"punkt\")\n",
    "\n",
    "SEED = 42\n",
    "random.seed(SEED)\n",
    "os.environ[\"PYTHONHASHSEED\"] = str(SEED)\n",
    "np.random.seed(SEED)"
   ]
  },
  {
   "cell_type": "code",
   "execution_count": 3,
   "metadata": {},
   "outputs": [
    {
     "data": {
      "text/plain": [
       "['king rules kingdom strength',\n",
       " 'king powerful courageous man',\n",
       " 'queen leads palace wisdom',\n",
       " 'queen elegant intelligent woman',\n",
       " 'man works hard stands ideas',\n",
       " 'woman brings gentleness perseverance',\n",
       " 'past kings queens respected',\n",
       " 'king loves war peace reigns thanks queen']"
      ]
     },
     "execution_count": 3,
     "metadata": {},
     "output_type": "execute_result"
    }
   ],
   "source": [
    "corpus = [\n",
    "    \"The king rules the kingdom with strength.\",\n",
    "    \"The king is a powerful and courageous man.\",\n",
    "    \"The queen leads the palace with wisdom.\",\n",
    "    \"The queen is an elegant and intelligent woman.\",\n",
    "    \"The man works hard and stands by his ideas.\",\n",
    "    \"The woman brings gentleness and perseverance.\",\n",
    "    \"In the past, kings and queens were respected.\",\n",
    "    \"The king loves war, but peace reigns thanks to the queen.\"\n",
    "]\n",
    "\n",
    "def clean_text(text):\n",
    "    text = text.lower()\n",
    "    text = re.sub(r\"[{}]\".format(string.punctuation), \" \", text)\n",
    "    text = re.sub(r\"\\s+\", \" \", text)\n",
    "    return text\n",
    "\n",
    "def tokenize(text):\n",
    "    return word_tokenize(text)\n",
    "\n",
    "def remove_stopwords(tokens):\n",
    "    return [t for t in tokens if t not in stopwords.words(\"english\")]\n",
    "    \n",
    "def preprocess(text):\n",
    "    text = clean_text(text)\n",
    "    tokens = tokenize(text)\n",
    "    tokens = remove_stopwords(tokens)\n",
    "    return \" \".join(tokens)\n",
    "\n",
    "corpus = [preprocess(text) for text in corpus]\n",
    "\n",
    "corpus\n"
   ]
  },
  {
   "cell_type": "code",
   "execution_count": 5,
   "metadata": {},
   "outputs": [
    {
     "name": "stdout",
     "output_type": "stream",
     "text": [
      "Cluster labels: [2 2 1 1 2 1 0 1]\n",
      "Silhouette Score: 0.03905656006634724\n"
     ]
    }
   ],
   "source": [
    "from sklearn.feature_extraction.text import TfidfVectorizer\n",
    "\n",
    "class TextEmbeddingKMeans:\n",
    "    def __init__(self, n_clusters=8, max_iter=1000, n_init=100, tol=1e-3):\n",
    "        self.n_clusters = n_clusters\n",
    "        self.max_iter = max_iter\n",
    "        self.n_init = n_init\n",
    "        self.tol = tol\n",
    "        self.vectorizer = TfidfVectorizer()\n",
    "        self.kmeans = MiniBatchKMeans(\n",
    "            n_clusters=self.n_clusters,\n",
    "            max_iter=self.max_iter,\n",
    "            n_init=self.n_init,\n",
    "            tol=self.tol,\n",
    "            random_state=SEED\n",
    "        )\n",
    "\n",
    "    def fit(self, corpus):\n",
    "        X = self.vectorizer.fit_transform(corpus)\n",
    "        self.kmeans.fit(X)\n",
    "        return self\n",
    "\n",
    "    def predict(self, corpus):\n",
    "        X = self.vectorizer.transform(corpus)\n",
    "        return self.kmeans.predict(X)\n",
    "\n",
    "    def fit_predict(self, corpus):\n",
    "        self.fit(corpus)\n",
    "        return self.predict(corpus)\n",
    "\n",
    "    def get_cluster_centers(self):\n",
    "        return self.kmeans.cluster_centers_\n",
    "\n",
    "    def get_labels(self):\n",
    "        return self.kmeans.labels_\n",
    "\n",
    "    def get_inertia(self):\n",
    "        return self.kmeans.inertia_\n",
    "\n",
    "    def get_silhouette_score(self, corpus):\n",
    "        X = self.vectorizer.transform(corpus)\n",
    "        return silhouette_score(X, self.kmeans.labels_)\n",
    "\n",
    "    def get_silhouette_samples(self, corpus):\n",
    "        X = self.vectorizer.transform(corpus)\n",
    "        return silhouette_samples(X, self.kmeans.labels_)\n",
    "\n",
    "# Test the class with the corpus\n",
    "text_embedding_kmeans = TextEmbeddingKMeans(n_clusters=3)\n",
    "labels = text_embedding_kmeans.fit_predict(corpus)\n",
    "\n",
    "print(\"Cluster labels:\", labels)\n",
    "print(\"Silhouette Score:\", text_embedding_kmeans.get_silhouette_score(corpus))"
   ]
  },
  {
   "cell_type": "code",
   "execution_count": 7,
   "metadata": {},
   "outputs": [
    {
     "name": "stdout",
     "output_type": "stream",
     "text": [
      "Embedding pour 'reine algébrique': [[ 0.  0.  0.  0.  0.  0.  0.  1.  0.  0.  0.  0. -1.  0.  0.  0.  0.  0.\n",
      "   0.  0.  0.  0.  0.  0.  0.  0.  0.  0.  1.  0.]]\n",
      "Embedding pour 'reine': [[0. 0. 0. 0. 0. 0. 0. 0. 0. 0. 0. 0. 0. 0. 0. 0. 0. 0. 1. 0. 0. 0. 0. 0.\n",
      "  0. 0. 0. 0. 0. 0.]]\n",
      "[[ True  True  True  True  True  True  True False  True  True  True  True\n",
      "  False  True  True  True  True  True False  True  True  True  True  True\n",
      "   True  True  True  True False  True]]\n"
     ]
    }
   ],
   "source": [
    "embedding_model = text_embedding_kmeans.vectorizer\n",
    "embedding_model.fit(corpus)\n",
    "embedding_king = embedding_model.transform(['king']).toarray()\n",
    "embedding_queen = embedding_model.transform(['queen']).toarray()\n",
    "embedding_man = embedding_model.transform(['man']).toarray()\n",
    "embedding_woman = embedding_model.transform(['woman']).toarray()\n",
    "\n",
    "print(\"Embedding pour 'reine algébrique':\", embedding_king - embedding_man + embedding_woman)\n",
    "print(\"Embedding pour 'reine':\", embedding_queen)\n",
    "print(embedding_king - embedding_man + embedding_woman == embedding_queen)\n"
   ]
  }
 ],
 "metadata": {
  "kernelspec": {
   "display_name": "Python 3",
   "language": "python",
   "name": "python3"
  },
  "language_info": {
   "codemirror_mode": {
    "name": "ipython",
    "version": 3
   },
   "file_extension": ".py",
   "mimetype": "text/x-python",
   "name": "python",
   "nbconvert_exporter": "python",
   "pygments_lexer": "ipython3",
   "version": "3.10.2"
  }
 },
 "nbformat": 4,
 "nbformat_minor": 2
}
